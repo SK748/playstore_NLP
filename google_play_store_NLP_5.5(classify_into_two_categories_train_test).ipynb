{
 "cells": [
  {
   "cell_type": "markdown",
   "metadata": {},
   "source": [
    "# 목표\n",
    "1. test_data를 사전예약 데이터만 이용하려 했으나, 수집한 train_data의 일부 사용"
   ]
  },
  {
   "cell_type": "code",
   "execution_count": 1,
   "metadata": {},
   "outputs": [],
   "source": [
    "import urllib.request\n",
    "import time\n",
    "import numpy as np\n",
    "import csv\n",
    "import pandas as pd\n",
    "\n",
    "from urllib.request import urlopen\n",
    "from urllib.parse import quote_plus\n",
    "from bs4 import BeautifulSoup\n",
    "from selenium import webdriver\n",
    "from sklearn.utils import shuffle\n",
    "\n",
    "%matplotlib inline\n",
    "import matplotlib.pyplot as plt"
   ]
  },
  {
   "cell_type": "code",
   "execution_count": 2,
   "metadata": {},
   "outputs": [],
   "source": [
    "train_data = pd.read_csv(\"Training_set_label_2\")"
   ]
  },
  {
   "cell_type": "code",
   "execution_count": 3,
   "metadata": {},
   "outputs": [
    {
     "data": {
      "text/html": [
       "<div>\n",
       "<style scoped>\n",
       "    .dataframe tbody tr th:only-of-type {\n",
       "        vertical-align: middle;\n",
       "    }\n",
       "\n",
       "    .dataframe tbody tr th {\n",
       "        vertical-align: top;\n",
       "    }\n",
       "\n",
       "    .dataframe thead th {\n",
       "        text-align: right;\n",
       "    }\n",
       "</style>\n",
       "<table border=\"1\" class=\"dataframe\">\n",
       "  <thead>\n",
       "    <tr style=\"text-align: right;\">\n",
       "      <th></th>\n",
       "      <th>Game title</th>\n",
       "      <th>Url</th>\n",
       "      <th>Genre</th>\n",
       "      <th>Label</th>\n",
       "    </tr>\n",
       "  </thead>\n",
       "  <tbody>\n",
       "    <tr>\n",
       "      <td>0</td>\n",
       "      <td>브롤스타즈</td>\n",
       "      <td>supercell.brawlstars</td>\n",
       "      <td>Action</td>\n",
       "      <td>10</td>\n",
       "    </tr>\n",
       "    <tr>\n",
       "      <td>1</td>\n",
       "      <td>모바일 레전드: Bang Bang</td>\n",
       "      <td>mobile.legends</td>\n",
       "      <td>Action</td>\n",
       "      <td>10</td>\n",
       "    </tr>\n",
       "    <tr>\n",
       "      <td>2</td>\n",
       "      <td>ROBLOX</td>\n",
       "      <td>roblox.client</td>\n",
       "      <td>Adventure</td>\n",
       "      <td>15</td>\n",
       "    </tr>\n",
       "    <tr>\n",
       "      <td>3</td>\n",
       "      <td>클래시 오브 클랜</td>\n",
       "      <td>supercell.clashofclans</td>\n",
       "      <td>Strategy</td>\n",
       "      <td>16</td>\n",
       "    </tr>\n",
       "    <tr>\n",
       "      <td>4</td>\n",
       "      <td>배틀그라운드</td>\n",
       "      <td>pubg.krmobile</td>\n",
       "      <td>Action</td>\n",
       "      <td>10</td>\n",
       "    </tr>\n",
       "    <tr>\n",
       "      <td>...</td>\n",
       "      <td>...</td>\n",
       "      <td>...</td>\n",
       "      <td>...</td>\n",
       "      <td>...</td>\n",
       "    </tr>\n",
       "    <tr>\n",
       "      <td>4329</td>\n",
       "      <td>그림자 기사: 죽음의 모험 RPG</td>\n",
       "      <td>fansipan.stickman.fight.shadow.knights</td>\n",
       "      <td>Action</td>\n",
       "      <td>10</td>\n",
       "    </tr>\n",
       "    <tr>\n",
       "      <td>4330</td>\n",
       "      <td>아기돼지 길찾기 대모험</td>\n",
       "      <td>grrr.piglet</td>\n",
       "      <td>Puzzle</td>\n",
       "      <td>8</td>\n",
       "    </tr>\n",
       "    <tr>\n",
       "      <td>4331</td>\n",
       "      <td>행성 때리기 3D</td>\n",
       "      <td>redboom.game.shootingstar</td>\n",
       "      <td>Arcade</td>\n",
       "      <td>6</td>\n",
       "    </tr>\n",
       "    <tr>\n",
       "      <td>4332</td>\n",
       "      <td>좀비 스위퍼 - 지뢰찾기 액션 퍼즐</td>\n",
       "      <td>arcgamestudio.zombiesweeper</td>\n",
       "      <td>Puzzle</td>\n",
       "      <td>8</td>\n",
       "    </tr>\n",
       "    <tr>\n",
       "      <td>4333</td>\n",
       "      <td>Mow Zombies - 미소녀의 좀비 퇴치 대작전</td>\n",
       "      <td>BlueShark.gp.MZombies</td>\n",
       "      <td>Casual</td>\n",
       "      <td>13</td>\n",
       "    </tr>\n",
       "  </tbody>\n",
       "</table>\n",
       "<p>4334 rows × 4 columns</p>\n",
       "</div>"
      ],
      "text/plain": [
       "                        Game title                                     Url  \\\n",
       "0                            브롤스타즈                    supercell.brawlstars   \n",
       "1               모바일 레전드: Bang Bang                          mobile.legends   \n",
       "2                           ROBLOX                           roblox.client   \n",
       "3                        클래시 오브 클랜                  supercell.clashofclans   \n",
       "4                           배틀그라운드                           pubg.krmobile   \n",
       "...                            ...                                     ...   \n",
       "4329            그림자 기사: 죽음의 모험 RPG  fansipan.stickman.fight.shadow.knights   \n",
       "4330                  아기돼지 길찾기 대모험                             grrr.piglet   \n",
       "4331                     행성 때리기 3D               redboom.game.shootingstar   \n",
       "4332           좀비 스위퍼 - 지뢰찾기 액션 퍼즐             arcgamestudio.zombiesweeper   \n",
       "4333  Mow Zombies - 미소녀의 좀비 퇴치 대작전                   BlueShark.gp.MZombies   \n",
       "\n",
       "          Genre  Label  \n",
       "0        Action     10  \n",
       "1        Action     10  \n",
       "2     Adventure     15  \n",
       "3      Strategy     16  \n",
       "4        Action     10  \n",
       "...         ...    ...  \n",
       "4329     Action     10  \n",
       "4330     Puzzle      8  \n",
       "4331     Arcade      6  \n",
       "4332     Puzzle      8  \n",
       "4333     Casual     13  \n",
       "\n",
       "[4334 rows x 4 columns]"
      ]
     },
     "execution_count": 3,
     "metadata": {},
     "output_type": "execute_result"
    }
   ],
   "source": [
    "train_data"
   ]
  },
  {
   "cell_type": "code",
   "execution_count": 4,
   "metadata": {},
   "outputs": [
    {
     "data": {
      "text/plain": [
       "<matplotlib.axes._subplots.AxesSubplot at 0x2656e7fcf48>"
      ]
     },
     "execution_count": 4,
     "metadata": {},
     "output_type": "execute_result"
    },
    {
     "data": {
      "image/png": "[encoded data removed]",
      "text/plain": [
       "<Figure size 432x288 with 1 Axes>"
      ]
     },
     "metadata": {
      "needs_background": "light"
     },
     "output_type": "display_data"
    }
   ],
   "source": [
    "train_data['Genre'].value_counts().plot(kind = 'bar')"
   ]
  },
  {
   "cell_type": "markdown",
   "metadata": {},
   "source": [
    "- 전체 데이터 개수를 파악하면, Music과 Trivia를 제외하고 모두 100개 이상\n",
    "- Train_data의 10%를 test_data로 만들자"
   ]
  },
  {
   "cell_type": "markdown",
   "metadata": {},
   "source": [
    "# Train, Test set 분류"
   ]
  },
  {
   "cell_type": "markdown",
   "metadata": {},
   "source": [
    "- Train_data의 10%를 test_data으로 생성"
   ]
  },
  {
   "cell_type": "code",
   "execution_count": 5,
   "metadata": {},
   "outputs": [],
   "source": [
    "test_data = train_data.sample(frac = 0.1)"
   ]
  },
  {
   "cell_type": "code",
   "execution_count": 6,
   "metadata": {},
   "outputs": [
    {
     "data": {
      "text/plain": [
       "<matplotlib.axes._subplots.AxesSubplot at 0x2656ecc4688>"
      ]
     },
     "execution_count": 6,
     "metadata": {},
     "output_type": "execute_result"
    },
    {
     "data": {
      "image/png": "[encoded data removed]",
      "text/plain": [
       "<Figure size 432x288 with 1 Axes>"
      ]
     },
     "metadata": {
      "needs_background": "light"
     },
     "output_type": "display_data"
    }
   ],
   "source": [
    "test_data['Genre'].value_counts().plot(kind = 'bar')"
   ]
  },
  {
   "cell_type": "markdown",
   "metadata": {},
   "source": [
    "10%를 추출해보면 초기 데이터값과 유사함을 알 수 있다. 이 내용들을 test_data로 만들고, 기존 train_data에서 제거하자"
   ]
  },
  {
   "cell_type": "code",
   "execution_count": 7,
   "metadata": {},
   "outputs": [],
   "source": [
    "test_data.reset_index(drop = True, inplace = True)"
   ]
  },
  {
   "cell_type": "code",
   "execution_count": 8,
   "metadata": {},
   "outputs": [
    {
     "data": {
      "text/html": [
       "<div>\n",
       "<style scoped>\n",
       "    .dataframe tbody tr th:only-of-type {\n",
       "        vertical-align: middle;\n",
       "    }\n",
       "\n",
       "    .dataframe tbody tr th {\n",
       "        vertical-align: top;\n",
       "    }\n",
       "\n",
       "    .dataframe thead th {\n",
       "        text-align: right;\n",
       "    }\n",
       "</style>\n",
       "<table border=\"1\" class=\"dataframe\">\n",
       "  <thead>\n",
       "    <tr style=\"text-align: right;\">\n",
       "      <th></th>\n",
       "      <th>Game title</th>\n",
       "      <th>Url</th>\n",
       "      <th>Genre</th>\n",
       "      <th>Label</th>\n",
       "    </tr>\n",
       "  </thead>\n",
       "  <tbody>\n",
       "    <tr>\n",
       "      <td>0</td>\n",
       "      <td>A Dance Of Fire and Ice</td>\n",
       "      <td>fizzd.connectedworlds</td>\n",
       "      <td>Music</td>\n",
       "      <td>3</td>\n",
       "    </tr>\n",
       "    <tr>\n",
       "      <td>1</td>\n",
       "      <td>월드 오브 탱크 블리츠</td>\n",
       "      <td>net.wargaming.wot.blitz</td>\n",
       "      <td>Strategy</td>\n",
       "      <td>16</td>\n",
       "    </tr>\n",
       "    <tr>\n",
       "      <td>2</td>\n",
       "      <td>THE KING OF FIGHTERS '97</td>\n",
       "      <td>snkplaymore.android001</td>\n",
       "      <td>Arcade</td>\n",
       "      <td>6</td>\n",
       "    </tr>\n",
       "    <tr>\n",
       "      <td>3</td>\n",
       "      <td>Papa's Taco Mia HD</td>\n",
       "      <td>air.com.flipline.papastacomiahd</td>\n",
       "      <td>Strategy</td>\n",
       "      <td>16</td>\n",
       "    </tr>\n",
       "    <tr>\n",
       "      <td>4</td>\n",
       "      <td>Tiledom - Matching Games</td>\n",
       "      <td>games.spearmint.triplecrush</td>\n",
       "      <td>Puzzle</td>\n",
       "      <td>8</td>\n",
       "    </tr>\n",
       "    <tr>\n",
       "      <td>...</td>\n",
       "      <td>...</td>\n",
       "      <td>...</td>\n",
       "      <td>...</td>\n",
       "      <td>...</td>\n",
       "    </tr>\n",
       "    <tr>\n",
       "      <td>428</td>\n",
       "      <td>Code Adventures : Coding Puzzles For Kids</td>\n",
       "      <td>cyborc.codeadventures</td>\n",
       "      <td>Educational</td>\n",
       "      <td>7</td>\n",
       "    </tr>\n",
       "    <tr>\n",
       "      <td>429</td>\n",
       "      <td>Warhammer 40,000: Regicide</td>\n",
       "      <td>hammerfall.regicide</td>\n",
       "      <td>Strategy</td>\n",
       "      <td>16</td>\n",
       "    </tr>\n",
       "    <tr>\n",
       "      <td>430</td>\n",
       "      <td>Jigsaw Puzzles Epic</td>\n",
       "      <td>kristanix.android.jigsawpuzzleepic</td>\n",
       "      <td>Puzzle</td>\n",
       "      <td>8</td>\n",
       "    </tr>\n",
       "    <tr>\n",
       "      <td>431</td>\n",
       "      <td>Oz: Broken Kingdom™</td>\n",
       "      <td>nexonm.oz</td>\n",
       "      <td>Action</td>\n",
       "      <td>10</td>\n",
       "    </tr>\n",
       "    <tr>\n",
       "      <td>432</td>\n",
       "      <td>League of Stickman Free- Shadow legends(Dreamsky)</td>\n",
       "      <td>me.dreamsky.leagueofstickman</td>\n",
       "      <td>Action</td>\n",
       "      <td>10</td>\n",
       "    </tr>\n",
       "  </tbody>\n",
       "</table>\n",
       "<p>433 rows × 4 columns</p>\n",
       "</div>"
      ],
      "text/plain": [
       "                                            Game title  \\\n",
       "0                              A Dance Of Fire and Ice   \n",
       "1                                         월드 오브 탱크 블리츠   \n",
       "2                             THE KING OF FIGHTERS '97   \n",
       "3                                   Papa's Taco Mia HD   \n",
       "4                             Tiledom - Matching Games   \n",
       "..                                                 ...   \n",
       "428          Code Adventures : Coding Puzzles For Kids   \n",
       "429                         Warhammer 40,000: Regicide   \n",
       "430                                Jigsaw Puzzles Epic   \n",
       "431                                Oz: Broken Kingdom™   \n",
       "432  League of Stickman Free- Shadow legends(Dreamsky)   \n",
       "\n",
       "                                    Url        Genre  Label  \n",
       "0                 fizzd.connectedworlds        Music      3  \n",
       "1               net.wargaming.wot.blitz     Strategy     16  \n",
       "2                snkplaymore.android001       Arcade      6  \n",
       "3       air.com.flipline.papastacomiahd     Strategy     16  \n",
       "4           games.spearmint.triplecrush       Puzzle      8  \n",
       "..                                  ...          ...    ...  \n",
       "428               cyborc.codeadventures  Educational      7  \n",
       "429                 hammerfall.regicide     Strategy     16  \n",
       "430  kristanix.android.jigsawpuzzleepic       Puzzle      8  \n",
       "431                           nexonm.oz       Action     10  \n",
       "432        me.dreamsky.leagueofstickman       Action     10  \n",
       "\n",
       "[433 rows x 4 columns]"
      ]
     },
     "execution_count": 8,
     "metadata": {},
     "output_type": "execute_result"
    }
   ],
   "source": [
    "test_data"
   ]
  },
  {
   "cell_type": "markdown",
   "metadata": {},
   "source": [
    "# Train data에서 Test data 제거"
   ]
  },
  {
   "cell_type": "code",
   "execution_count": 9,
   "metadata": {},
   "outputs": [],
   "source": [
    "imsi = pd.concat([train_data, test_data])"
   ]
  },
  {
   "cell_type": "code",
   "execution_count": 10,
   "metadata": {},
   "outputs": [
    {
     "data": {
      "text/html": [
       "<div>\n",
       "<style scoped>\n",
       "    .dataframe tbody tr th:only-of-type {\n",
       "        vertical-align: middle;\n",
       "    }\n",
       "\n",
       "    .dataframe tbody tr th {\n",
       "        vertical-align: top;\n",
       "    }\n",
       "\n",
       "    .dataframe thead th {\n",
       "        text-align: right;\n",
       "    }\n",
       "</style>\n",
       "<table border=\"1\" class=\"dataframe\">\n",
       "  <thead>\n",
       "    <tr style=\"text-align: right;\">\n",
       "      <th></th>\n",
       "      <th>Game title</th>\n",
       "      <th>Url</th>\n",
       "      <th>Genre</th>\n",
       "      <th>Label</th>\n",
       "    </tr>\n",
       "  </thead>\n",
       "  <tbody>\n",
       "    <tr>\n",
       "      <td>0</td>\n",
       "      <td>브롤스타즈</td>\n",
       "      <td>supercell.brawlstars</td>\n",
       "      <td>Action</td>\n",
       "      <td>10</td>\n",
       "    </tr>\n",
       "    <tr>\n",
       "      <td>1</td>\n",
       "      <td>모바일 레전드: Bang Bang</td>\n",
       "      <td>mobile.legends</td>\n",
       "      <td>Action</td>\n",
       "      <td>10</td>\n",
       "    </tr>\n",
       "    <tr>\n",
       "      <td>2</td>\n",
       "      <td>ROBLOX</td>\n",
       "      <td>roblox.client</td>\n",
       "      <td>Adventure</td>\n",
       "      <td>15</td>\n",
       "    </tr>\n",
       "    <tr>\n",
       "      <td>3</td>\n",
       "      <td>클래시 오브 클랜</td>\n",
       "      <td>supercell.clashofclans</td>\n",
       "      <td>Strategy</td>\n",
       "      <td>16</td>\n",
       "    </tr>\n",
       "    <tr>\n",
       "      <td>4</td>\n",
       "      <td>배틀그라운드</td>\n",
       "      <td>pubg.krmobile</td>\n",
       "      <td>Action</td>\n",
       "      <td>10</td>\n",
       "    </tr>\n",
       "    <tr>\n",
       "      <td>...</td>\n",
       "      <td>...</td>\n",
       "      <td>...</td>\n",
       "      <td>...</td>\n",
       "      <td>...</td>\n",
       "    </tr>\n",
       "    <tr>\n",
       "      <td>428</td>\n",
       "      <td>Code Adventures : Coding Puzzles For Kids</td>\n",
       "      <td>cyborc.codeadventures</td>\n",
       "      <td>Educational</td>\n",
       "      <td>7</td>\n",
       "    </tr>\n",
       "    <tr>\n",
       "      <td>429</td>\n",
       "      <td>Warhammer 40,000: Regicide</td>\n",
       "      <td>hammerfall.regicide</td>\n",
       "      <td>Strategy</td>\n",
       "      <td>16</td>\n",
       "    </tr>\n",
       "    <tr>\n",
       "      <td>430</td>\n",
       "      <td>Jigsaw Puzzles Epic</td>\n",
       "      <td>kristanix.android.jigsawpuzzleepic</td>\n",
       "      <td>Puzzle</td>\n",
       "      <td>8</td>\n",
       "    </tr>\n",
       "    <tr>\n",
       "      <td>431</td>\n",
       "      <td>Oz: Broken Kingdom™</td>\n",
       "      <td>nexonm.oz</td>\n",
       "      <td>Action</td>\n",
       "      <td>10</td>\n",
       "    </tr>\n",
       "    <tr>\n",
       "      <td>432</td>\n",
       "      <td>League of Stickman Free- Shadow legends(Dreamsky)</td>\n",
       "      <td>me.dreamsky.leagueofstickman</td>\n",
       "      <td>Action</td>\n",
       "      <td>10</td>\n",
       "    </tr>\n",
       "  </tbody>\n",
       "</table>\n",
       "<p>4767 rows × 4 columns</p>\n",
       "</div>"
      ],
      "text/plain": [
       "                                            Game title  \\\n",
       "0                                                브롤스타즈   \n",
       "1                                   모바일 레전드: Bang Bang   \n",
       "2                                               ROBLOX   \n",
       "3                                            클래시 오브 클랜   \n",
       "4                                               배틀그라운드   \n",
       "..                                                 ...   \n",
       "428          Code Adventures : Coding Puzzles For Kids   \n",
       "429                         Warhammer 40,000: Regicide   \n",
       "430                                Jigsaw Puzzles Epic   \n",
       "431                                Oz: Broken Kingdom™   \n",
       "432  League of Stickman Free- Shadow legends(Dreamsky)   \n",
       "\n",
       "                                    Url        Genre  Label  \n",
       "0                  supercell.brawlstars       Action     10  \n",
       "1                        mobile.legends       Action     10  \n",
       "2                         roblox.client    Adventure     15  \n",
       "3                supercell.clashofclans     Strategy     16  \n",
       "4                         pubg.krmobile       Action     10  \n",
       "..                                  ...          ...    ...  \n",
       "428               cyborc.codeadventures  Educational      7  \n",
       "429                 hammerfall.regicide     Strategy     16  \n",
       "430  kristanix.android.jigsawpuzzleepic       Puzzle      8  \n",
       "431                           nexonm.oz       Action     10  \n",
       "432        me.dreamsky.leagueofstickman       Action     10  \n",
       "\n",
       "[4767 rows x 4 columns]"
      ]
     },
     "execution_count": 10,
     "metadata": {},
     "output_type": "execute_result"
    }
   ],
   "source": [
    "imsi"
   ]
  },
  {
   "cell_type": "code",
   "execution_count": 11,
   "metadata": {},
   "outputs": [],
   "source": [
    "Train_data = imsi.drop_duplicates('Url', keep = False)"
   ]
  },
  {
   "cell_type": "code",
   "execution_count": 12,
   "metadata": {},
   "outputs": [],
   "source": [
    "Train_data = shuffle(Train_data)"
   ]
  },
  {
   "cell_type": "code",
   "execution_count": 13,
   "metadata": {},
   "outputs": [],
   "source": [
    "Train_data.reset_index(drop = True, inplace = True)"
   ]
  },
  {
   "cell_type": "code",
   "execution_count": 14,
   "metadata": {},
   "outputs": [
    {
     "data": {
      "text/html": [
       "<div>\n",
       "<style scoped>\n",
       "    .dataframe tbody tr th:only-of-type {\n",
       "        vertical-align: middle;\n",
       "    }\n",
       "\n",
       "    .dataframe tbody tr th {\n",
       "        vertical-align: top;\n",
       "    }\n",
       "\n",
       "    .dataframe thead th {\n",
       "        text-align: right;\n",
       "    }\n",
       "</style>\n",
       "<table border=\"1\" class=\"dataframe\">\n",
       "  <thead>\n",
       "    <tr style=\"text-align: right;\">\n",
       "      <th></th>\n",
       "      <th>Game title</th>\n",
       "      <th>Url</th>\n",
       "      <th>Genre</th>\n",
       "      <th>Label</th>\n",
       "    </tr>\n",
       "  </thead>\n",
       "  <tbody>\n",
       "    <tr>\n",
       "      <td>0</td>\n",
       "      <td>Pathos: Nethack Codex</td>\n",
       "      <td>x10host.pathos</td>\n",
       "      <td>Role Playing</td>\n",
       "      <td>11</td>\n",
       "    </tr>\n",
       "    <tr>\n",
       "      <td>1</td>\n",
       "      <td>Слова из Слова - Составь</td>\n",
       "      <td>justanothertry.slovavk</td>\n",
       "      <td>Word</td>\n",
       "      <td>4</td>\n",
       "    </tr>\n",
       "    <tr>\n",
       "      <td>2</td>\n",
       "      <td>보루의 정복</td>\n",
       "      <td>droidhen.fortconquer</td>\n",
       "      <td>Strategy</td>\n",
       "      <td>16</td>\n",
       "    </tr>\n",
       "    <tr>\n",
       "      <td>3</td>\n",
       "      <td>Clay Hunt PRO</td>\n",
       "      <td>aleksirantonen.clayhuntpro</td>\n",
       "      <td>Sports</td>\n",
       "      <td>0</td>\n",
       "    </tr>\n",
       "    <tr>\n",
       "      <td>4</td>\n",
       "      <td>Freerice – Learn, Have Fun, Help End Hunger</td>\n",
       "      <td>freerice.android</td>\n",
       "      <td>Educational</td>\n",
       "      <td>7</td>\n",
       "    </tr>\n",
       "    <tr>\n",
       "      <td>...</td>\n",
       "      <td>...</td>\n",
       "      <td>...</td>\n",
       "      <td>...</td>\n",
       "      <td>...</td>\n",
       "    </tr>\n",
       "    <tr>\n",
       "      <td>3896</td>\n",
       "      <td>Сканворды на русском</td>\n",
       "      <td>fgcos.scanwords</td>\n",
       "      <td>Word</td>\n",
       "      <td>4</td>\n",
       "    </tr>\n",
       "    <tr>\n",
       "      <td>3897</td>\n",
       "      <td>패밀리 아일랜드 - 농장모험게임</td>\n",
       "      <td>MelsoftGames.FamilyIslandFarm</td>\n",
       "      <td>Casual</td>\n",
       "      <td>13</td>\n",
       "    </tr>\n",
       "    <tr>\n",
       "      <td>3898</td>\n",
       "      <td>모던 스트라이크 온라인: 3D FPS 사격 게임</td>\n",
       "      <td>gamedevltd.modernstrike</td>\n",
       "      <td>Action</td>\n",
       "      <td>10</td>\n",
       "    </tr>\n",
       "    <tr>\n",
       "      <td>3899</td>\n",
       "      <td>Word Search</td>\n",
       "      <td>wordloco.wordchallenge</td>\n",
       "      <td>Word</td>\n",
       "      <td>4</td>\n",
       "    </tr>\n",
       "    <tr>\n",
       "      <td>3900</td>\n",
       "      <td>Football Chairman Pro</td>\n",
       "      <td>undergroundcreative.footballchairmanpro</td>\n",
       "      <td>Sports</td>\n",
       "      <td>0</td>\n",
       "    </tr>\n",
       "  </tbody>\n",
       "</table>\n",
       "<p>3901 rows × 4 columns</p>\n",
       "</div>"
      ],
      "text/plain": [
       "                                       Game title  \\\n",
       "0                           Pathos: Nethack Codex   \n",
       "1                        Слова из Слова - Составь   \n",
       "2                                          보루의 정복   \n",
       "3                                   Clay Hunt PRO   \n",
       "4     Freerice – Learn, Have Fun, Help End Hunger   \n",
       "...                                           ...   \n",
       "3896                         Сканворды на русском   \n",
       "3897                            패밀리 아일랜드 - 농장모험게임   \n",
       "3898                   모던 스트라이크 온라인: 3D FPS 사격 게임   \n",
       "3899                                  Word Search   \n",
       "3900                        Football Chairman Pro   \n",
       "\n",
       "                                          Url         Genre  Label  \n",
       "0                              x10host.pathos  Role Playing     11  \n",
       "1                      justanothertry.slovavk          Word      4  \n",
       "2                        droidhen.fortconquer      Strategy     16  \n",
       "3                  aleksirantonen.clayhuntpro        Sports      0  \n",
       "4                            freerice.android   Educational      7  \n",
       "...                                       ...           ...    ...  \n",
       "3896                          fgcos.scanwords          Word      4  \n",
       "3897            MelsoftGames.FamilyIslandFarm        Casual     13  \n",
       "3898                  gamedevltd.modernstrike        Action     10  \n",
       "3899                   wordloco.wordchallenge          Word      4  \n",
       "3900  undergroundcreative.footballchairmanpro        Sports      0  \n",
       "\n",
       "[3901 rows x 4 columns]"
      ]
     },
     "execution_count": 14,
     "metadata": {},
     "output_type": "execute_result"
    }
   ],
   "source": [
    "Train_data"
   ]
  },
  {
   "cell_type": "code",
   "execution_count": 15,
   "metadata": {},
   "outputs": [],
   "source": [
    "Train_data.to_csv('Train_data', index = False, header = True)\n",
    "test_data.to_csv('Test_data', index = False, header = True)"
   ]
  },
  {
   "cell_type": "markdown",
   "metadata": {},
   "source": [
    "이상 구글 플레이스토어 크롤링 후 test_data 만들기 종료"
   ]
  }
 ],
 "metadata": {
  "kernelspec": {
   "display_name": "Python 3",
   "language": "python",
   "name": "python3"
  },
  "language_info": {
   "codemirror_mode": {
    "name": "ipython",
    "version": 3
   },
   "file_extension": ".py",
   "mimetype": "text/x-python",
   "name": "python",
   "nbconvert_exporter": "python",
   "pygments_lexer": "ipython3",
   "version": "3.7.4"
  }
 },
 "nbformat": 4,
 "nbformat_minor": 2
}
