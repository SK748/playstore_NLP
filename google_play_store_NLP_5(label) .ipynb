{
 "cells": [
  {
   "cell_type": "markdown",
   "metadata": {},
   "source": [
    "# 목표\n",
    "\n",
    "1. Genre별 label 설정하기"
   ]
  },
  {
   "cell_type": "code",
   "execution_count": 1,
   "metadata": {},
   "outputs": [],
   "source": [
    "import pandas as pd\n",
    "import sklearn\n",
    "import matplotlib\n",
    "import numpy as np\n",
    "import copy"
   ]
  },
  {
   "cell_type": "code",
   "execution_count": 2,
   "metadata": {},
   "outputs": [],
   "source": [
    "train_set = pd.read_csv(\"Training_set_2\")\n",
    "test_set = pd.read_csv(\"test_set\")"
   ]
  },
  {
   "cell_type": "code",
   "execution_count": 3,
   "metadata": {},
   "outputs": [
    {
     "data": {
      "text/html": [
       "<div>\n",
       "<style scoped>\n",
       "    .dataframe tbody tr th:only-of-type {\n",
       "        vertical-align: middle;\n",
       "    }\n",
       "\n",
       "    .dataframe tbody tr th {\n",
       "        vertical-align: top;\n",
       "    }\n",
       "\n",
       "    .dataframe thead th {\n",
       "        text-align: right;\n",
       "    }\n",
       "</style>\n",
       "<table border=\"1\" class=\"dataframe\">\n",
       "  <thead>\n",
       "    <tr style=\"text-align: right;\">\n",
       "      <th></th>\n",
       "      <th>Game title</th>\n",
       "      <th>Url</th>\n",
       "      <th>Genre</th>\n",
       "    </tr>\n",
       "  </thead>\n",
       "  <tbody>\n",
       "    <tr>\n",
       "      <td>0</td>\n",
       "      <td>브롤스타즈</td>\n",
       "      <td>supercell.brawlstars</td>\n",
       "      <td>Action</td>\n",
       "    </tr>\n",
       "    <tr>\n",
       "      <td>1</td>\n",
       "      <td>모바일 레전드: Bang Bang</td>\n",
       "      <td>mobile.legends</td>\n",
       "      <td>Action</td>\n",
       "    </tr>\n",
       "    <tr>\n",
       "      <td>2</td>\n",
       "      <td>ROBLOX</td>\n",
       "      <td>roblox.client</td>\n",
       "      <td>Adventure</td>\n",
       "    </tr>\n",
       "    <tr>\n",
       "      <td>3</td>\n",
       "      <td>클래시 오브 클랜</td>\n",
       "      <td>supercell.clashofclans</td>\n",
       "      <td>Strategy</td>\n",
       "    </tr>\n",
       "    <tr>\n",
       "      <td>4</td>\n",
       "      <td>배틀그라운드</td>\n",
       "      <td>pubg.krmobile</td>\n",
       "      <td>Action</td>\n",
       "    </tr>\n",
       "    <tr>\n",
       "      <td>...</td>\n",
       "      <td>...</td>\n",
       "      <td>...</td>\n",
       "      <td>...</td>\n",
       "    </tr>\n",
       "    <tr>\n",
       "      <td>4329</td>\n",
       "      <td>그림자 기사: 죽음의 모험 RPG</td>\n",
       "      <td>fansipan.stickman.fight.shadow.knights</td>\n",
       "      <td>Action</td>\n",
       "    </tr>\n",
       "    <tr>\n",
       "      <td>4330</td>\n",
       "      <td>아기돼지 길찾기 대모험</td>\n",
       "      <td>grrr.piglet</td>\n",
       "      <td>Puzzle</td>\n",
       "    </tr>\n",
       "    <tr>\n",
       "      <td>4331</td>\n",
       "      <td>행성 때리기 3D</td>\n",
       "      <td>redboom.game.shootingstar</td>\n",
       "      <td>Arcade</td>\n",
       "    </tr>\n",
       "    <tr>\n",
       "      <td>4332</td>\n",
       "      <td>좀비 스위퍼 - 지뢰찾기 액션 퍼즐</td>\n",
       "      <td>arcgamestudio.zombiesweeper</td>\n",
       "      <td>Puzzle</td>\n",
       "    </tr>\n",
       "    <tr>\n",
       "      <td>4333</td>\n",
       "      <td>Mow Zombies - 미소녀의 좀비 퇴치 대작전</td>\n",
       "      <td>BlueShark.gp.MZombies</td>\n",
       "      <td>Casual</td>\n",
       "    </tr>\n",
       "  </tbody>\n",
       "</table>\n",
       "<p>4334 rows × 3 columns</p>\n",
       "</div>"
      ],
      "text/plain": [
       "                        Game title                                     Url  \\\n",
       "0                            브롤스타즈                    supercell.brawlstars   \n",
       "1               모바일 레전드: Bang Bang                          mobile.legends   \n",
       "2                           ROBLOX                           roblox.client   \n",
       "3                        클래시 오브 클랜                  supercell.clashofclans   \n",
       "4                           배틀그라운드                           pubg.krmobile   \n",
       "...                            ...                                     ...   \n",
       "4329            그림자 기사: 죽음의 모험 RPG  fansipan.stickman.fight.shadow.knights   \n",
       "4330                  아기돼지 길찾기 대모험                             grrr.piglet   \n",
       "4331                     행성 때리기 3D               redboom.game.shootingstar   \n",
       "4332           좀비 스위퍼 - 지뢰찾기 액션 퍼즐             arcgamestudio.zombiesweeper   \n",
       "4333  Mow Zombies - 미소녀의 좀비 퇴치 대작전                   BlueShark.gp.MZombies   \n",
       "\n",
       "          Genre  \n",
       "0        Action  \n",
       "1        Action  \n",
       "2     Adventure  \n",
       "3      Strategy  \n",
       "4        Action  \n",
       "...         ...  \n",
       "4329     Action  \n",
       "4330     Puzzle  \n",
       "4331     Arcade  \n",
       "4332     Puzzle  \n",
       "4333     Casual  \n",
       "\n",
       "[4334 rows x 3 columns]"
      ]
     },
     "execution_count": 3,
     "metadata": {},
     "output_type": "execute_result"
    }
   ],
   "source": [
    "train_set"
   ]
  },
  {
   "cell_type": "markdown",
   "metadata": {},
   "source": [
    "# Date label"
   ]
  },
  {
   "cell_type": "markdown",
   "metadata": {},
   "source": [
    "Genre를 가져와 개수를 파악하고, 알맞게 label을 설정합니다."
   ]
  },
  {
   "cell_type": "code",
   "execution_count": 4,
   "metadata": {},
   "outputs": [
    {
     "data": {
      "text/plain": [
       "Index(['Game title', 'Url', 'Genre'], dtype='object')"
      ]
     },
     "execution_count": 4,
     "metadata": {},
     "output_type": "execute_result"
    }
   ],
   "source": [
    "train_set.columns"
   ]
  },
  {
   "cell_type": "code",
   "execution_count": 5,
   "metadata": {},
   "outputs": [],
   "source": [
    "imsi_train_set = copy.deepcopy(train_set)\n",
    "target = imsi_train_set['Genre']"
   ]
  },
  {
   "cell_type": "markdown",
   "metadata": {},
   "source": [
    "Data labeling 전 몇 가지 target이 있는지 파악하기 위해 set을 통해 중복을 제거합니다."
   ]
  },
  {
   "cell_type": "code",
   "execution_count": 6,
   "metadata": {},
   "outputs": [],
   "source": [
    "imsi_target = set(target)"
   ]
  },
  {
   "cell_type": "code",
   "execution_count": 7,
   "metadata": {},
   "outputs": [
    {
     "data": {
      "text/plain": [
       "{'Action',\n",
       " 'Adventure',\n",
       " 'Arcade',\n",
       " 'Board',\n",
       " 'Card',\n",
       " 'Casino',\n",
       " 'Casual',\n",
       " 'Educational',\n",
       " 'Music',\n",
       " 'Puzzle',\n",
       " 'Racing',\n",
       " 'Role Playing',\n",
       " 'Simulation',\n",
       " 'Sports',\n",
       " 'Strategy',\n",
       " 'Trivia',\n",
       " 'Word'}"
      ]
     },
     "execution_count": 7,
     "metadata": {},
     "output_type": "execute_result"
    }
   ],
   "source": [
    "imsi_target"
   ]
  },
  {
   "cell_type": "code",
   "execution_count": 8,
   "metadata": {},
   "outputs": [
    {
     "data": {
      "text/plain": [
       "17"
      ]
     },
     "execution_count": 8,
     "metadata": {},
     "output_type": "execute_result"
    }
   ],
   "source": [
    "len(imsi_target)"
   ]
  },
  {
   "cell_type": "markdown",
   "metadata": {},
   "source": [
    "17가지의 target이 나왔기 때문에 0~16까지 labeling을 해줍니다."
   ]
  },
  {
   "cell_type": "code",
   "execution_count": 9,
   "metadata": {},
   "outputs": [],
   "source": [
    "# imsi_target을 바탕으로 labeling을 해줍니다.\n",
    "n = 0\n",
    "for i in imsi_target:\n",
    "    target.replace(i,n,inplace = True)\n",
    "    n += 1"
   ]
  },
  {
   "cell_type": "code",
   "execution_count": 10,
   "metadata": {},
   "outputs": [
    {
     "data": {
      "text/plain": [
       "0        4\n",
       "1        4\n",
       "2        7\n",
       "3        0\n",
       "4        4\n",
       "        ..\n",
       "4329     4\n",
       "4330     1\n",
       "4331    15\n",
       "4332     1\n",
       "4333    10\n",
       "Name: Genre, Length: 4334, dtype: int64"
      ]
     },
     "execution_count": 10,
     "metadata": {},
     "output_type": "execute_result"
    }
   ],
   "source": [
    "target"
   ]
  },
  {
   "cell_type": "markdown",
   "metadata": {},
   "source": [
    "label의 내용을 기존 DataFrame에 결합시켜줍니다."
   ]
  },
  {
   "cell_type": "code",
   "execution_count": 11,
   "metadata": {},
   "outputs": [],
   "source": [
    "train_set['Label'] = np.array(target)"
   ]
  },
  {
   "cell_type": "code",
   "execution_count": 12,
   "metadata": {},
   "outputs": [
    {
     "data": {
      "text/html": [
       "<div>\n",
       "<style scoped>\n",
       "    .dataframe tbody tr th:only-of-type {\n",
       "        vertical-align: middle;\n",
       "    }\n",
       "\n",
       "    .dataframe tbody tr th {\n",
       "        vertical-align: top;\n",
       "    }\n",
       "\n",
       "    .dataframe thead th {\n",
       "        text-align: right;\n",
       "    }\n",
       "</style>\n",
       "<table border=\"1\" class=\"dataframe\">\n",
       "  <thead>\n",
       "    <tr style=\"text-align: right;\">\n",
       "      <th></th>\n",
       "      <th>Game title</th>\n",
       "      <th>Url</th>\n",
       "      <th>Genre</th>\n",
       "      <th>Label</th>\n",
       "    </tr>\n",
       "  </thead>\n",
       "  <tbody>\n",
       "    <tr>\n",
       "      <td>0</td>\n",
       "      <td>브롤스타즈</td>\n",
       "      <td>supercell.brawlstars</td>\n",
       "      <td>Action</td>\n",
       "      <td>4</td>\n",
       "    </tr>\n",
       "    <tr>\n",
       "      <td>1</td>\n",
       "      <td>모바일 레전드: Bang Bang</td>\n",
       "      <td>mobile.legends</td>\n",
       "      <td>Action</td>\n",
       "      <td>4</td>\n",
       "    </tr>\n",
       "    <tr>\n",
       "      <td>2</td>\n",
       "      <td>ROBLOX</td>\n",
       "      <td>roblox.client</td>\n",
       "      <td>Adventure</td>\n",
       "      <td>7</td>\n",
       "    </tr>\n",
       "    <tr>\n",
       "      <td>3</td>\n",
       "      <td>클래시 오브 클랜</td>\n",
       "      <td>supercell.clashofclans</td>\n",
       "      <td>Strategy</td>\n",
       "      <td>0</td>\n",
       "    </tr>\n",
       "    <tr>\n",
       "      <td>4</td>\n",
       "      <td>배틀그라운드</td>\n",
       "      <td>pubg.krmobile</td>\n",
       "      <td>Action</td>\n",
       "      <td>4</td>\n",
       "    </tr>\n",
       "    <tr>\n",
       "      <td>...</td>\n",
       "      <td>...</td>\n",
       "      <td>...</td>\n",
       "      <td>...</td>\n",
       "      <td>...</td>\n",
       "    </tr>\n",
       "    <tr>\n",
       "      <td>4329</td>\n",
       "      <td>그림자 기사: 죽음의 모험 RPG</td>\n",
       "      <td>fansipan.stickman.fight.shadow.knights</td>\n",
       "      <td>Action</td>\n",
       "      <td>4</td>\n",
       "    </tr>\n",
       "    <tr>\n",
       "      <td>4330</td>\n",
       "      <td>아기돼지 길찾기 대모험</td>\n",
       "      <td>grrr.piglet</td>\n",
       "      <td>Puzzle</td>\n",
       "      <td>1</td>\n",
       "    </tr>\n",
       "    <tr>\n",
       "      <td>4331</td>\n",
       "      <td>행성 때리기 3D</td>\n",
       "      <td>redboom.game.shootingstar</td>\n",
       "      <td>Arcade</td>\n",
       "      <td>15</td>\n",
       "    </tr>\n",
       "    <tr>\n",
       "      <td>4332</td>\n",
       "      <td>좀비 스위퍼 - 지뢰찾기 액션 퍼즐</td>\n",
       "      <td>arcgamestudio.zombiesweeper</td>\n",
       "      <td>Puzzle</td>\n",
       "      <td>1</td>\n",
       "    </tr>\n",
       "    <tr>\n",
       "      <td>4333</td>\n",
       "      <td>Mow Zombies - 미소녀의 좀비 퇴치 대작전</td>\n",
       "      <td>BlueShark.gp.MZombies</td>\n",
       "      <td>Casual</td>\n",
       "      <td>10</td>\n",
       "    </tr>\n",
       "  </tbody>\n",
       "</table>\n",
       "<p>4334 rows × 4 columns</p>\n",
       "</div>"
      ],
      "text/plain": [
       "                        Game title                                     Url  \\\n",
       "0                            브롤스타즈                    supercell.brawlstars   \n",
       "1               모바일 레전드: Bang Bang                          mobile.legends   \n",
       "2                           ROBLOX                           roblox.client   \n",
       "3                        클래시 오브 클랜                  supercell.clashofclans   \n",
       "4                           배틀그라운드                           pubg.krmobile   \n",
       "...                            ...                                     ...   \n",
       "4329            그림자 기사: 죽음의 모험 RPG  fansipan.stickman.fight.shadow.knights   \n",
       "4330                  아기돼지 길찾기 대모험                             grrr.piglet   \n",
       "4331                     행성 때리기 3D               redboom.game.shootingstar   \n",
       "4332           좀비 스위퍼 - 지뢰찾기 액션 퍼즐             arcgamestudio.zombiesweeper   \n",
       "4333  Mow Zombies - 미소녀의 좀비 퇴치 대작전                   BlueShark.gp.MZombies   \n",
       "\n",
       "          Genre  Label  \n",
       "0        Action      4  \n",
       "1        Action      4  \n",
       "2     Adventure      7  \n",
       "3      Strategy      0  \n",
       "4        Action      4  \n",
       "...         ...    ...  \n",
       "4329     Action      4  \n",
       "4330     Puzzle      1  \n",
       "4331     Arcade     15  \n",
       "4332     Puzzle      1  \n",
       "4333     Casual     10  \n",
       "\n",
       "[4334 rows x 4 columns]"
      ]
     },
     "execution_count": 12,
     "metadata": {},
     "output_type": "execute_result"
    }
   ],
   "source": [
    "train_set"
   ]
  },
  {
   "cell_type": "markdown",
   "metadata": {},
   "source": [
    "# 파일 저장"
   ]
  },
  {
   "cell_type": "code",
   "execution_count": 13,
   "metadata": {},
   "outputs": [],
   "source": [
    "train_set.to_csv('Training_set_label_2', index = False, header = True)"
   ]
  },
  {
   "cell_type": "code",
   "execution_count": 14,
   "metadata": {},
   "outputs": [],
   "source": [
    "test_set.to_csv('Test_set_label', index = False, header = True)"
   ]
  }
 ],
 "metadata": {
  "kernelspec": {
   "display_name": "Python 3",
   "language": "python",
   "name": "python3"
  },
  "language_info": {
   "codemirror_mode": {
    "name": "ipython",
    "version": 3
   },
   "file_extension": ".py",
   "mimetype": "text/x-python",
   "name": "python",
   "nbconvert_exporter": "python",
   "pygments_lexer": "ipython3",
   "version": "3.7.4"
  }
 },
 "nbformat": 4,
 "nbformat_minor": 2
}
